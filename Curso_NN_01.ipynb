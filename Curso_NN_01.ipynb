{
  "nbformat": 4,
  "nbformat_minor": 0,
  "metadata": {
    "accelerator": "GPU",
    "colab": {
      "name": "Curso_NN_01.ipynb",
      "provenance": [],
      "collapsed_sections": []
    },
    "kernelspec": {
      "display_name": "Python 3",
      "language": "python",
      "name": "python3"
    },
    "language_info": {
      "codemirror_mode": {
        "name": "ipython",
        "version": 3
      },
      "file_extension": ".py",
      "mimetype": "text/x-python",
      "name": "python",
      "nbconvert_exporter": "python",
      "pygments_lexer": "ipython3",
      "version": "3.6.5"
    }
  },
  "cells": [
    {
      "cell_type": "markdown",
      "metadata": {
        "colab_type": "text",
        "id": "nVlDJWzSJYj4"
      },
      "source": [
        "# 0. Instalación de Keras y Tensorflow\n",
        "\n"
      ]
    },
    {
      "cell_type": "markdown",
      "metadata": {
        "colab_type": "text",
        "id": "BXQUgxoNvMRD"
      },
      "source": [
        "\n",
        "## Tensorflow\n",
        "Para instalar tensorflow en python, hay que elegir si se va autilizar GPU (aumentará la velocidad de estimación) o no:\n",
        "\n",
        "### GPU\n",
        "\n",
        "```\n",
        "pip install --upgrade tensorflow-gpu\n",
        "```\n",
        "\n",
        "### Sin GPU\n",
        "\n",
        "```\n",
        "pip install --upgrade tensorflow\n",
        "```\n",
        "```\n",
        "Collecting tensorflow\n",
        "  Downloading https://files.pythonhosted.org/packages/05/cd/c171d2e33c0192b04560ce864c26eba83fed888fe5cd9ded661b2702f2ae/tensorflow-1.12.0-cp36-cp36m-win_amd64.whl (45.9MB)\n",
        "    100% |████████████████████████████████| 45.9MB 425kB/s\n",
        "\n",
        "    ----\n",
        "    Successfully installed absl-py-0.7.0 astor-0.7.1 gast-0.2.2 grpcio-1.18.0 h5py-2.9.0 keras-applications-1.0.6 keras-preprocessing-1.0.5 markdown-3.0.1 numpy-1.16.0 protobuf-3.6.1 six-1.12.0 tensorboard-1.12.2 tensorflow-1.12.0 termcolor-1.1.0 werkzeug-0.14.1\n",
        "\n",
        "```"
      ]
    },
    {
      "cell_type": "code",
      "metadata": {
        "colab_type": "code",
        "id": "Y7TeTRLBJNwd",
        "colab": {}
      },
      "source": [
        "# pip install --upgrade tensorflow\n",
        "# pip install --upgrade tensorflow-gpu"
      ],
      "execution_count": 0,
      "outputs": []
    },
    {
      "cell_type": "markdown",
      "metadata": {
        "colab_type": "text",
        "id": "OYDvmZVsLbif"
      },
      "source": [
        "```\n",
        "pip install --upgrade tensorflow\n",
        "Collecting tensorflow\n",
        "  Downloading https://files.pythonhosted.org/packages/05/cd/c171d2e33c0192b04560ce864c26eba83fed888fe5cd9ded661b2702f2ae/tensorflow-1.12.0-cp36-cp36m-win_amd64.whl (45.9MB)\n",
        "    100% |████████████████████████████████| 45.9MB 425kB/s\n",
        "    \n",
        "    ----\n",
        "    Successfully installed absl-py-0.7.0 astor-0.7.1 gast-0.2.2 grpcio-1.18.0 h5py-2.9.0 keras-applications-1.0.6 keras-preprocessing-1.0.5 markdown-3.0.1 numpy-1.16.0 protobuf-3.6.1 six-1.12.0 tensorboard-1.12.2 tensorflow-1.12.0 termcolor-1.1.0 werkzeug-0.14.1\n",
        "```\n",
        "\n"
      ]
    },
    {
      "cell_type": "code",
      "metadata": {
        "colab_type": "code",
        "id": "aX3kgtgIL8U_",
        "colab": {}
      },
      "source": [
        "import tensorflow"
      ],
      "execution_count": 0,
      "outputs": []
    },
    {
      "cell_type": "markdown",
      "metadata": {
        "colab_type": "text",
        "id": "p3ok24FbMQLA"
      },
      "source": [
        "## Keras\n",
        "Actualmente, keras viene distribuido dentro de tensorflow (tensorflor.keras), pero se puede instalar como pun paquete aparte.\n",
        "\n",
        "```\n",
        "pip install keras\n",
        "```\n",
        "\n",
        "\n",
        "```\n",
        "\n",
        "Collecting keras\n",
        "\n",
        "  Downloading https://files.pythonhosted.org/packages/5e/10/aa32dad071ce52b5502266b5c659451cfd6ffcbf14e6c8c4f16c0ff5aaab/Keras-2.2.4-py2.py3-none-any.whl (312kB)\n",
        "    100% |████████████████████████████████| 317kB 1.9MB/s\n",
        "    \n",
        "```\n",
        "\n",
        "\n",
        "Pare verificar la instalación de Keras, imprimir por pantalla el archivo ~/.keras/keras.json\n",
        "\n",
        "\n",
        "\n",
        "```\n",
        "cat ~/.keras/keras.json\n",
        "\n",
        "{\n",
        "    \"floatx\": \"float32\",\n",
        "    \"epsilon\": 1e-07,\n",
        "    \"backend\": \"tensorflow\",\n",
        "    \"image_data_format\": \"channels_last\"\n",
        "}\n",
        "\n",
        "```\n",
        "\n",
        "Verificar los siguientes campos\n",
        "\n",
        "```\n",
        "\"backend\": \"tensorflow\"\n",
        " \"image_data_format\": \"channels_last\"\n",
        " ```\n"
      ]
    },
    {
      "cell_type": "code",
      "metadata": {
        "colab_type": "code",
        "id": "00OyA7cqNERD",
        "outputId": "fcf74ba0-8caf-457f-8f89-d5043ee1b119",
        "colab": {
          "base_uri": "https://localhost:8080/",
          "height": 36
        }
      },
      "source": [
        "import tensorflow.keras as keras\n",
        "keras.__version__"
      ],
      "execution_count": 3,
      "outputs": [
        {
          "output_type": "execute_result",
          "data": {
            "text/plain": [
              "'2.3.0-tf'"
            ]
          },
          "metadata": {
            "tags": []
          },
          "execution_count": 3
        }
      ]
    },
    {
      "cell_type": "markdown",
      "metadata": {
        "colab_type": "text",
        "id": "Zp9lN0nZNyrk"
      },
      "source": [
        "# 1. Regresión Lineal\n",
        "La relacion entre la variable dependiente $y$ y la variable independiente $X_1$ depende linealmente sólo del parámetro $\\omega_1$ (la pendiente de la recta) y empieza en $cte.$\n",
        "\n",
        "$y=\\omega_1 · X_1 + cte.$"
      ]
    },
    {
      "cell_type": "code",
      "metadata": {
        "colab_type": "code",
        "id": "RSBYBVSZ0eq2",
        "outputId": "20a0fcca-2121-4677-d0ce-f47baf85b281",
        "colab": {
          "base_uri": "https://localhost:8080/",
          "height": 545
        }
      },
      "source": [
        "import numpy as np\n",
        "import matplotlib.pyplot as plt \n",
        "\n",
        "# Los valores reales de la regresión\n",
        "omega = 4\n",
        "cte = 2\n",
        "\n",
        "# Los valores de X\n",
        "x = np.linspace(1,2,200)\n",
        "\n",
        "#Calculamos los valores de y\n",
        "y = x*omega  + cte\n",
        "\n",
        "#Imprimimos\n",
        "plt.plot(x , y, 'k.')\n",
        "plt.title(f\"Regresión fácil: y = {omega}*x + {cte}\")\n",
        "plt.show()\n",
        "\n",
        "\n",
        "# Lo ponemos un poco más difícil, movemos un poco los valores\n",
        "ruido = np.random.randn(*x.shape) * 0.3\n",
        "y = x*omega  + cte + ruido\n",
        "\n",
        "#Imprimimos de nuevo\n",
        "plt.plot(x , y, 'k.')\n",
        "plt.title(f\"Regresión fácil con ruido: y = {omega}*x + {cte} + ruido\")\n",
        "plt.show()"
      ],
      "execution_count": 4,
      "outputs": [
        {
          "output_type": "display_data",
          "data": {
            "image/png": "[encoded data removed]",
            "text/plain": [
              "<Figure size 432x288 with 1 Axes>"
            ]
          },
          "metadata": {
            "tags": [],
            "needs_background": "light"
          }
        },
        {
          "output_type": "display_data",
          "data": {
            "image/png": "[encoded data removed]",
            "text/plain": [
              "<Figure size 432x288 with 1 Axes>"
            ]
          },
          "metadata": {
            "tags": [],
            "needs_background": "light"
          }
        }
      ]
    },
    {
      "cell_type": "markdown",
      "metadata": {
        "colab_type": "text",
        "id": "rOly2RTf2R3g"
      },
      "source": [
        "## Red Neuronal estimando una regresión lineal\n",
        "\n",
        "\n",
        "$$X_1 ---->(w_1)_{neurona}---->y\\\\\n",
        "/_{bias}$$\n",
        "\n",
        "\n",
        "\n",
        "\n",
        "#### Queremos estimar:\n",
        "\n",
        "\n",
        "* **El parámetro $\\omega$**: Nuestra red neuronal sólo necesita una neurona, cuya entrada sean las $x_1$ y la salida vaya en el rango de los reales\n",
        "* **La $cte.$**: Se estimará un parámetro bias (lo veremos maś adelante en el curso)\n",
        "\n"
      ]
    },
    {
      "cell_type": "code",
      "metadata": {
        "colab_type": "code",
        "id": "K0hfetdd4VgJ",
        "outputId": "05aa0a2a-6d5c-4c96-be50-10593d59b1ac",
        "colab": {
          "base_uri": "https://localhost:8080/",
          "height": 223
        }
      },
      "source": [
        "import tensorflow.keras as keras\n",
        "from tensorflow.keras.models import Sequential\n",
        "from tensorflow.keras.layers import Dense\n",
        "\n",
        " \n",
        "# Creamos la red neuronal\n",
        "model = Sequential()\n",
        "\n",
        "# Añadimos la Neurona, que está en una capa densa, con sólo una entrada (el \n",
        "# parámetro) y la activación lineal devuelve el rango de reales\n",
        "model.add(Dense(1, input_dim=1, use_bias=True, activation='linear'))\n",
        "\n",
        "print(model.summary())\n",
        "\n"
      ],
      "execution_count": 5,
      "outputs": [
        {
          "output_type": "stream",
          "text": [
            "Model: \"sequential\"\n",
            "_________________________________________________________________\n",
            "Layer (type)                 Output Shape              Param #   \n",
            "=================================================================\n",
            "dense (Dense)                (None, 1)                 2         \n",
            "=================================================================\n",
            "Total params: 2\n",
            "Trainable params: 2\n",
            "Non-trainable params: 0\n",
            "_________________________________________________________________\n",
            "None\n"
          ],
          "name": "stdout"
        }
      ]
    },
    {
      "cell_type": "code",
      "metadata": {
        "colab_type": "code",
        "id": "tis2kEiLAn6F",
        "outputId": "4f4d42df-2ad6-4a24-8f8b-9043b00feeec",
        "colab": {
          "base_uri": "https://localhost:8080/",
          "height": 73
        }
      },
      "source": [
        "#La red ha inicializado los parámetros\n",
        "weights = model.layers[0].get_weights()\n",
        "print(weights)\n",
        "\n",
        "w_init = weights[0][0][0]\n",
        "b_init = weights[1][0]\n",
        "print('\\nModelo de regresio lineal inicializado con w: %.2f, b: %.2f' % (w_init, b_init))\n"
      ],
      "execution_count": 6,
      "outputs": [
        {
          "output_type": "stream",
          "text": [
            "[array([[0.10286164]], dtype=float32), array([0.], dtype=float32)]\n",
            "\n",
            "Modelo de regresio lineal inicializado con w: 0.10, b: 0.00\n"
          ],
          "name": "stdout"
        }
      ]
    },
    {
      "cell_type": "markdown",
      "metadata": {
        "colab_type": "text",
        "id": "MWQY5e9OBi92"
      },
      "source": [
        "## Entrenamiento\n",
        "### Optimizador\n",
        "\n",
        "Para estimar los parámetros utilizaremos:\n",
        "* **Un optimizador**:  Algoritmo para encontrar los pesos en función del error a minimizar\n",
        "* **Un Error**: Cómo mediremos el error\n",
        "\n",
        "En nuestro ejemplo, utilizaremos el método del gradiente como optimizador y el error cuadrático medio como error.\n"
      ]
    },
    {
      "cell_type": "code",
      "metadata": {
        "colab_type": "code",
        "id": "WkvVt_EaC4Tf",
        "colab": {}
      },
      "source": [
        "# Definimos el optimizador y la métrica del error\n",
        "# sgd: Stochastic gradient descent\n",
        " \n",
        "model.compile(optimizer='sgd', loss='mean_squared_error')"
      ],
      "execution_count": 0,
      "outputs": []
    },
    {
      "cell_type": "markdown",
      "metadata": {
        "colab_type": "text",
        "id": "zLY_XlidDIoI"
      },
      "source": [
        "### Entrenamiento\n",
        "\n",
        "Para el entrenamiento, hay que darle al optimizador:\n",
        "* **Los datos originales**: x e y.\n",
        "* **batch_size**: Número de registros para cada paso del gradiente\n",
        "* **epochs**: el número de vueltas sobre todo el dataset"
      ]
    },
    {
      "cell_type": "code",
      "metadata": {
        "colab_type": "code",
        "id": "L8yaTwhtDe2L",
        "outputId": "a81492d4-60b6-4f90-ef11-ac21d30d8d61",
        "colab": {
          "base_uri": "https://localhost:8080/",
          "height": 1000
        }
      },
      "source": [
        "model.fit(x,y, batch_size=1, epochs=30)"
      ],
      "execution_count": 8,
      "outputs": [
        {
          "output_type": "stream",
          "text": [
            "Epoch 1/30\n",
            "200/200 [==============================] - 0s 2ms/step - loss: 2.5434\n",
            "Epoch 2/30\n",
            "200/200 [==============================] - 0s 2ms/step - loss: 0.0827\n",
            "Epoch 3/30\n",
            "200/200 [==============================] - 0s 2ms/step - loss: 0.0837\n",
            "Epoch 4/30\n",
            "200/200 [==============================] - 0s 2ms/step - loss: 0.0829\n",
            "Epoch 5/30\n",
            "200/200 [==============================] - 0s 2ms/step - loss: 0.0815\n",
            "Epoch 6/30\n",
            "200/200 [==============================] - 0s 2ms/step - loss: 0.0813\n",
            "Epoch 7/30\n",
            "200/200 [==============================] - 0s 2ms/step - loss: 0.0807\n",
            "Epoch 8/30\n",
            "200/200 [==============================] - 0s 2ms/step - loss: 0.0794\n",
            "Epoch 9/30\n",
            "200/200 [==============================] - 0s 2ms/step - loss: 0.0812\n",
            "Epoch 10/30\n",
            "200/200 [==============================] - 0s 2ms/step - loss: 0.0802\n",
            "Epoch 11/30\n",
            "200/200 [==============================] - 0s 2ms/step - loss: 0.0799\n",
            "Epoch 12/30\n",
            "200/200 [==============================] - 0s 2ms/step - loss: 0.0801\n",
            "Epoch 13/30\n",
            "200/200 [==============================] - 0s 2ms/step - loss: 0.0791\n",
            "Epoch 14/30\n",
            "200/200 [==============================] - 0s 2ms/step - loss: 0.0801\n",
            "Epoch 15/30\n",
            "200/200 [==============================] - 0s 2ms/step - loss: 0.0799\n",
            "Epoch 16/30\n",
            "200/200 [==============================] - 0s 2ms/step - loss: 0.0772\n",
            "Epoch 17/30\n",
            "200/200 [==============================] - 0s 2ms/step - loss: 0.0794\n",
            "Epoch 18/30\n",
            "200/200 [==============================] - 0s 2ms/step - loss: 0.0789\n",
            "Epoch 19/30\n",
            "200/200 [==============================] - 0s 2ms/step - loss: 0.0794\n",
            "Epoch 20/30\n",
            "200/200 [==============================] - 0s 2ms/step - loss: 0.0794\n",
            "Epoch 21/30\n",
            "200/200 [==============================] - 0s 2ms/step - loss: 0.0791\n",
            "Epoch 22/30\n",
            "200/200 [==============================] - 0s 2ms/step - loss: 0.0800\n",
            "Epoch 23/30\n",
            "200/200 [==============================] - 0s 2ms/step - loss: 0.0777\n",
            "Epoch 24/30\n",
            "200/200 [==============================] - 0s 2ms/step - loss: 0.0797\n",
            "Epoch 25/30\n",
            "200/200 [==============================] - 0s 2ms/step - loss: 0.0793\n",
            "Epoch 26/30\n",
            "200/200 [==============================] - 0s 2ms/step - loss: 0.0790\n",
            "Epoch 27/30\n",
            "200/200 [==============================] - 0s 2ms/step - loss: 0.0781\n",
            "Epoch 28/30\n",
            "200/200 [==============================] - 0s 2ms/step - loss: 0.0793\n",
            "Epoch 29/30\n",
            "200/200 [==============================] - 0s 2ms/step - loss: 0.0793\n",
            "Epoch 30/30\n",
            "200/200 [==============================] - 0s 2ms/step - loss: 0.0796\n"
          ],
          "name": "stdout"
        },
        {
          "output_type": "execute_result",
          "data": {
            "text/plain": [
              "<tensorflow.python.keras.callbacks.History at 0x7fdec04f88d0>"
            ]
          },
          "metadata": {
            "tags": []
          },
          "execution_count": 8
        }
      ]
    },
    {
      "cell_type": "code",
      "metadata": {
        "colab_type": "code",
        "id": "1CioEraENyIZ",
        "outputId": "8c1b2317-4ddb-4634-8ff0-de7086c23771",
        "colab": {
          "base_uri": "https://localhost:8080/",
          "height": 386
        }
      },
      "source": [
        "#Veamos el resultado\n",
        "\n",
        "weights = model.layers[0].get_weights()\n",
        "w_final = weights[0][0][0]\n",
        "b_final = weights[1][0]\n",
        "print(\"\"\"\\nModelo de regresion lineal estimado con:\n",
        "w: %.2f (Objetivo: %.2f)\n",
        "b: %.2f (Objetivo: %.2f)\"\"\" % (w_final,omega, b_final, cte))\n",
        "\n",
        "# Veamos la predicción\n",
        "predict = model.predict(x)\n",
        "\n",
        "plt.plot(x, predict, 'b', x , y, 'k.')\n",
        "plt.title(f\"Regresión fácil con ruido: \\nEstimado: y = {w_final:.2f}*x + {b_final:.2f}\\nReal: y = {omega}*x + {cte} + ruido\")\n",
        "plt.show()"
      ],
      "execution_count": 9,
      "outputs": [
        {
          "output_type": "stream",
          "text": [
            "\n",
            "Modelo de regresion lineal estimado con:\n",
            "w: 4.02 (Objetivo: 4.00)\n",
            "b: 1.97 (Objetivo: 2.00)\n"
          ],
          "name": "stdout"
        },
        {
          "output_type": "display_data",
          "data": {
            "image/png": "[encoded data removed]",
            "text/plain": [
              "<Figure size 432x288 with 1 Axes>"
            ]
          },
          "metadata": {
            "tags": [],
            "needs_background": "light"
          }
        }
      ]
    },
    {
      "cell_type": "markdown",
      "metadata": {
        "colab_type": "text",
        "id": "Cj4mAfO-ID3L"
      },
      "source": [
        "## EJERCICIO\n",
        "Estimación con dos partametros: \n",
        "$y=\\omega_1 · X_1 + \\omega_2 · X_2 + cte.$\n",
        "\n",
        "\n",
        "\n",
        "\n",
        "\n",
        "\n"
      ]
    },
    {
      "cell_type": "markdown",
      "metadata": {
        "colab_type": "text",
        "id": "JGw3WriyOe5e"
      },
      "source": [
        "# MNIST con densas"
      ]
    },
    {
      "cell_type": "markdown",
      "metadata": {
        "colab_type": "text",
        "id": "1gLrSzSvw9oh"
      },
      "source": [
        "El problema ahora es identificar los números escritos a mano."
      ]
    },
    {
      "cell_type": "code",
      "metadata": {
        "colab_type": "code",
        "id": "nVk_a6SsxvM9",
        "colab": {}
      },
      "source": [
        "from tensorflow.keras.datasets import mnist\n",
        "from tensorflow.keras.utils import to_categorical \n",
        "import numpy as np\n",
        "import matplotlib.pyplot as plt \n",
        "\n",
        "\n",
        "(X_train, y_train), (X_test, y_test) = mnist.load_data()\n",
        "\n",
        "\n"
      ],
      "execution_count": 0,
      "outputs": []
    },
    {
      "cell_type": "code",
      "metadata": {
        "colab_type": "code",
        "id": "v2uF3H5qx_H9",
        "outputId": "33fe3257-8c89-48f2-8cdf-108f0e10295c",
        "colab": {
          "base_uri": "https://localhost:8080/",
          "height": 908
        }
      },
      "source": [
        "print(\"X_train: \", X_train.shape)\n",
        "print(\"y_train: \", y_train.shape)\n",
        "print(\"X_test: \", X_test.shape)\n",
        "print(\"y_test: \", y_test.shape)\n",
        "\n",
        "print(\"Distribución de número en train:\", np.unique(y_train, return_counts=True))\n",
        "\n",
        "idx=1\n",
        "\n",
        "\n",
        "fig = plt.figure()\n",
        "plt.imshow(X_train[idx], cmap='gray', interpolation='none')\n",
        "plt.xticks([])\n",
        "plt.yticks([])\n",
        "fig\n",
        "\n",
        "\n",
        "print(f\"Número: {y_train[idx]}\")\n",
        "\n",
        "np.set_printoptions(linewidth=200)\n",
        "print(X_train[idx,:,:])\n"
      ],
      "execution_count": 11,
      "outputs": [
        {
          "output_type": "stream",
          "text": [
            "X_train:  (60000, 28, 28)\n",
            "y_train:  (60000,)\n",
            "X_test:  (10000, 28, 28)\n",
            "y_test:  (10000,)\n",
            "Distribución de número en train: (array([0, 1, 2, 3, 4, 5, 6, 7, 8, 9], dtype=uint8), array([5923, 6742, 5958, 6131, 5842, 5421, 5918, 6265, 5851, 5949]))\n",
            "Número: 0\n",
            "[[  0   0   0   0   0   0   0   0   0   0   0   0   0   0   0   0   0   0   0   0   0   0   0   0   0   0   0   0]\n",
            " [  0   0   0   0   0   0   0   0   0   0   0   0   0   0   0   0   0   0   0   0   0   0   0   0   0   0   0   0]\n",
            " [  0   0   0   0   0   0   0   0   0   0   0   0   0   0   0   0   0   0   0   0   0   0   0   0   0   0   0   0]\n",
            " [  0   0   0   0   0   0   0   0   0   0   0   0   0   0   0   0   0   0   0   0   0   0   0   0   0   0   0   0]\n",
            " [  0   0   0   0   0   0   0   0   0   0   0   0   0   0   0  51 159 253 159  50   0   0   0   0   0   0   0   0]\n",
            " [  0   0   0   0   0   0   0   0   0   0   0   0   0   0  48 238 252 252 252 237   0   0   0   0   0   0   0   0]\n",
            " [  0   0   0   0   0   0   0   0   0   0   0   0   0  54 227 253 252 239 233 252  57   6   0   0   0   0   0   0]\n",
            " [  0   0   0   0   0   0   0   0   0   0   0  10  60 224 252 253 252 202  84 252 253 122   0   0   0   0   0   0]\n",
            " [  0   0   0   0   0   0   0   0   0   0   0 163 252 252 252 253 252 252  96 189 253 167   0   0   0   0   0   0]\n",
            " [  0   0   0   0   0   0   0   0   0   0  51 238 253 253 190 114 253 228  47  79 255 168   0   0   0   0   0   0]\n",
            " [  0   0   0   0   0   0   0   0   0  48 238 252 252 179  12  75 121  21   0   0 253 243  50   0   0   0   0   0]\n",
            " [  0   0   0   0   0   0   0   0  38 165 253 233 208  84   0   0   0   0   0   0 253 252 165   0   0   0   0   0]\n",
            " [  0   0   0   0   0   0   0   7 178 252 240  71  19  28   0   0   0   0   0   0 253 252 195   0   0   0   0   0]\n",
            " [  0   0   0   0   0   0   0  57 252 252  63   0   0   0   0   0   0   0   0   0 253 252 195   0   0   0   0   0]\n",
            " [  0   0   0   0   0   0   0 198 253 190   0   0   0   0   0   0   0   0   0   0 255 253 196   0   0   0   0   0]\n",
            " [  0   0   0   0   0   0  76 246 252 112   0   0   0   0   0   0   0   0   0   0 253 252 148   0   0   0   0   0]\n",
            " [  0   0   0   0   0   0  85 252 230  25   0   0   0   0   0   0   0   0   7 135 253 186  12   0   0   0   0   0]\n",
            " [  0   0   0   0   0   0  85 252 223   0   0   0   0   0   0   0   0   7 131 252 225  71   0   0   0   0   0   0]\n",
            " [  0   0   0   0   0   0  85 252 145   0   0   0   0   0   0   0  48 165 252 173   0   0   0   0   0   0   0   0]\n",
            " [  0   0   0   0   0   0  86 253 225   0   0   0   0   0   0 114 238 253 162   0   0   0   0   0   0   0   0   0]\n",
            " [  0   0   0   0   0   0  85 252 249 146  48  29  85 178 225 253 223 167  56   0   0   0   0   0   0   0   0   0]\n",
            " [  0   0   0   0   0   0  85 252 252 252 229 215 252 252 252 196 130   0   0   0   0   0   0   0   0   0   0   0]\n",
            " [  0   0   0   0   0   0  28 199 252 252 253 252 252 233 145   0   0   0   0   0   0   0   0   0   0   0   0   0]\n",
            " [  0   0   0   0   0   0   0  25 128 252 253 252 141  37   0   0   0   0   0   0   0   0   0   0   0   0   0   0]\n",
            " [  0   0   0   0   0   0   0   0   0   0   0   0   0   0   0   0   0   0   0   0   0   0   0   0   0   0   0   0]\n",
            " [  0   0   0   0   0   0   0   0   0   0   0   0   0   0   0   0   0   0   0   0   0   0   0   0   0   0   0   0]\n",
            " [  0   0   0   0   0   0   0   0   0   0   0   0   0   0   0   0   0   0   0   0   0   0   0   0   0   0   0   0]\n",
            " [  0   0   0   0   0   0   0   0   0   0   0   0   0   0   0   0   0   0   0   0   0   0   0   0   0   0   0   0]]\n"
          ],
          "name": "stdout"
        },
        {
          "output_type": "display_data",
          "data": {
            "image/png": "[encoded data removed]",
            "text/plain": [
              "<Figure size 432x288 with 1 Axes>"
            ]
          },
          "metadata": {
            "tags": []
          }
        }
      ]
    },
    {
      "cell_type": "markdown",
      "metadata": {
        "colab_type": "text",
        "id": "M_9KJvr9Tpoc"
      },
      "source": [
        "Introducimos en la red neuronal la imagen en una dimensión"
      ]
    },
    {
      "cell_type": "code",
      "metadata": {
        "colab_type": "code",
        "id": "Lc1efMmCSD_y",
        "outputId": "d5dc9531-dc88-46b2-fc64-44886f492fbc",
        "colab": {
          "base_uri": "https://localhost:8080/",
          "height": 467
        }
      },
      "source": [
        "X_train = X_train.reshape(60000, 784).astype('float32')\n",
        "X_test = X_test.reshape(10000, 784).astype('float32')\n",
        "np.set_printoptions(linewidth=200)\n",
        "print(X_train[idx,:])\n",
        "\n",
        "print(\"Train forma:\", X_train.shape)\n",
        "print(\"Test forma:\", X_test.shape)\n"
      ],
      "execution_count": 12,
      "outputs": [
        {
          "output_type": "stream",
          "text": [
            "[  0.   0.   0.   0.   0.   0.   0.   0.   0.   0.   0.   0.   0.   0.   0.   0.   0.   0.   0.   0.   0.   0.   0.   0.   0.   0.   0.   0.   0.   0.   0.   0.   0.   0.   0.   0.   0.   0.   0.\n",
            "   0.   0.   0.   0.   0.   0.   0.   0.   0.   0.   0.   0.   0.   0.   0.   0.   0.   0.   0.   0.   0.   0.   0.   0.   0.   0.   0.   0.   0.   0.   0.   0.   0.   0.   0.   0.   0.   0.   0.\n",
            "   0.   0.   0.   0.   0.   0.   0.   0.   0.   0.   0.   0.   0.   0.   0.   0.   0.   0.   0.   0.   0.   0.   0.   0.   0.   0.   0.   0.   0.   0.   0.   0.   0.   0.   0.   0.   0.   0.   0.\n",
            "   0.   0.   0.   0.   0.   0.   0.   0.   0.   0.  51. 159. 253. 159.  50.   0.   0.   0.   0.   0.   0.   0.   0.   0.   0.   0.   0.   0.   0.   0.   0.   0.   0.   0.   0.   0.   0.  48. 238.\n",
            " 252. 252. 252. 237.   0.   0.   0.   0.   0.   0.   0.   0.   0.   0.   0.   0.   0.   0.   0.   0.   0.   0.   0.   0.   0.  54. 227. 253. 252. 239. 233. 252.  57.   6.   0.   0.   0.   0.   0.\n",
            "   0.   0.   0.   0.   0.   0.   0.   0.   0.   0.   0.   0.  10.  60. 224. 252. 253. 252. 202.  84. 252. 253. 122.   0.   0.   0.   0.   0.   0.   0.   0.   0.   0.   0.   0.   0.   0.   0.   0.\n",
            "   0. 163. 252. 252. 252. 253. 252. 252.  96. 189. 253. 167.   0.   0.   0.   0.   0.   0.   0.   0.   0.   0.   0.   0.   0.   0.   0.   0.  51. 238. 253. 253. 190. 114. 253. 228.  47.  79. 255.\n",
            " 168.   0.   0.   0.   0.   0.   0.   0.   0.   0.   0.   0.   0.   0.   0.   0.  48. 238. 252. 252. 179.  12.  75. 121.  21.   0.   0. 253. 243.  50.   0.   0.   0.   0.   0.   0.   0.   0.   0.\n",
            "   0.   0.   0.   0.  38. 165. 253. 233. 208.  84.   0.   0.   0.   0.   0.   0. 253. 252. 165.   0.   0.   0.   0.   0.   0.   0.   0.   0.   0.   0.   0.   7. 178. 252. 240.  71.  19.  28.   0.\n",
            "   0.   0.   0.   0.   0. 253. 252. 195.   0.   0.   0.   0.   0.   0.   0.   0.   0.   0.   0.   0.  57. 252. 252.  63.   0.   0.   0.   0.   0.   0.   0.   0.   0. 253. 252. 195.   0.   0.   0.\n",
            "   0.   0.   0.   0.   0.   0.   0.   0.   0. 198. 253. 190.   0.   0.   0.   0.   0.   0.   0.   0.   0.   0. 255. 253. 196.   0.   0.   0.   0.   0.   0.   0.   0.   0.   0.   0.  76. 246. 252.\n",
            " 112.   0.   0.   0.   0.   0.   0.   0.   0.   0.   0. 253. 252. 148.   0.   0.   0.   0.   0.   0.   0.   0.   0.   0.   0.  85. 252. 230.  25.   0.   0.   0.   0.   0.   0.   0.   0.   7. 135.\n",
            " 253. 186.  12.   0.   0.   0.   0.   0.   0.   0.   0.   0.   0.   0.  85. 252. 223.   0.   0.   0.   0.   0.   0.   0.   0.   7. 131. 252. 225.  71.   0.   0.   0.   0.   0.   0.   0.   0.   0.\n",
            "   0.   0.   0.  85. 252. 145.   0.   0.   0.   0.   0.   0.   0.  48. 165. 252. 173.   0.   0.   0.   0.   0.   0.   0.   0.   0.   0.   0.   0.   0.   0.  86. 253. 225.   0.   0.   0.   0.   0.\n",
            "   0. 114. 238. 253. 162.   0.   0.   0.   0.   0.   0.   0.   0.   0.   0.   0.   0.   0.   0.   0.  85. 252. 249. 146.  48.  29.  85. 178. 225. 253. 223. 167.  56.   0.   0.   0.   0.   0.   0.\n",
            "   0.   0.   0.   0.   0.   0.   0.   0.   0.  85. 252. 252. 252. 229. 215. 252. 252. 252. 196. 130.   0.   0.   0.   0.   0.   0.   0.   0.   0.   0.   0.   0.   0.   0.   0.   0.   0.  28. 199.\n",
            " 252. 252. 253. 252. 252. 233. 145.   0.   0.   0.   0.   0.   0.   0.   0.   0.   0.   0.   0.   0.   0.   0.   0.   0.   0.   0.   0.  25. 128. 252. 253. 252. 141.  37.   0.   0.   0.   0.   0.\n",
            "   0.   0.   0.   0.   0.   0.   0.   0.   0.   0.   0.   0.   0.   0.   0.   0.   0.   0.   0.   0.   0.   0.   0.   0.   0.   0.   0.   0.   0.   0.   0.   0.   0.   0.   0.   0.   0.   0.   0.\n",
            "   0.   0.   0.   0.   0.   0.   0.   0.   0.   0.   0.   0.   0.   0.   0.   0.   0.   0.   0.   0.   0.   0.   0.   0.   0.   0.   0.   0.   0.   0.   0.   0.   0.   0.   0.   0.   0.   0.   0.\n",
            "   0.   0.   0.   0.   0.   0.   0.   0.   0.   0.   0.   0.   0.   0.   0.   0.   0.   0.   0.   0.   0.   0.   0.   0.   0.   0.   0.   0.   0.   0.   0.   0.   0.   0.   0.   0.   0.   0.   0.\n",
            "   0.   0.   0.   0.]\n",
            "Train forma: (60000, 784)\n",
            "Test forma: (10000, 784)\n"
          ],
          "name": "stdout"
        }
      ]
    },
    {
      "cell_type": "markdown",
      "metadata": {
        "colab_type": "text",
        "id": "UTQNYEHrUg_a"
      },
      "source": [
        "Ayudamos a la red neuronal normalizando los datos"
      ]
    },
    {
      "cell_type": "code",
      "metadata": {
        "colab_type": "code",
        "id": "-CxIduzVUk30",
        "colab": {}
      },
      "source": [
        "# Ayudamos normalizando los datos\n",
        "X_train /= 255\n",
        "X_test /= 255"
      ],
      "execution_count": 0,
      "outputs": []
    },
    {
      "cell_type": "markdown",
      "metadata": {
        "colab_type": "text",
        "id": "_3qNSB-PVXCO"
      },
      "source": [
        "Como resultado tenemos una columna con números del 0 al 9, pero queremos que la red neuronal nos devuelva la probabilidad de ser cada uno de los números, por lo tanto, necesitamos 10 columnas."
      ]
    },
    {
      "cell_type": "code",
      "metadata": {
        "colab_type": "code",
        "id": "t79wi4dsVscr",
        "outputId": "47c1f73b-038a-4151-80f5-3bfa4a6d32be",
        "colab": {
          "base_uri": "https://localhost:8080/",
          "height": 167
        }
      },
      "source": [
        "n_classes = 10\n",
        "print(\"Forma antes del one-hot encoding: \", y_train.shape)\n",
        "Y_train = to_categorical(y_train, n_classes)\n",
        "Y_test = to_categorical(y_test, n_classes)\n",
        "print(\"Forma después del one-hot encoding: \", Y_train.shape)\n",
        "\n",
        "print(y_train[idx])\n",
        "print(Y_train[idx])\n",
        "\n",
        "print(\"\\n\")\n",
        "print(y_train[idx+1])\n",
        "print(Y_train[idx+1])"
      ],
      "execution_count": 14,
      "outputs": [
        {
          "output_type": "stream",
          "text": [
            "Forma antes del one-hot encoding:  (60000,)\n",
            "Forma después del one-hot encoding:  (60000, 10)\n",
            "0\n",
            "[1. 0. 0. 0. 0. 0. 0. 0. 0. 0.]\n",
            "\n",
            "\n",
            "4\n",
            "[0. 0. 0. 0. 1. 0. 0. 0. 0. 0.]\n"
          ],
          "name": "stdout"
        }
      ]
    },
    {
      "cell_type": "markdown",
      "metadata": {
        "colab_type": "text",
        "id": "u01UrMoMWitn"
      },
      "source": [
        "## Construyendo el modelo\n"
      ]
    },
    {
      "cell_type": "code",
      "metadata": {
        "colab_type": "code",
        "id": "kMDjhvoRUyeP",
        "outputId": "f1e0dad3-f9a6-4a4e-efb0-165e4986a026",
        "colab": {
          "base_uri": "https://localhost:8080/",
          "height": 485
        }
      },
      "source": [
        "from tensorflow.keras.models import Sequential\n",
        "from tensorflow.keras.layers import Dense, Activation, Dropout\n",
        "\n",
        "model = Sequential()\n",
        "model.add(Dense(512, input_shape=(784,)))\n",
        "model.add(Activation('relu'))\n",
        "model.add(Dropout(0.2))\n",
        "\n",
        "model.add(Dense(512))\n",
        "model.add(Activation('relu'))\n",
        "model.add(Dropout(0.2))\n",
        "\n",
        "model.add(Dense(10))\n",
        "model.add(Activation('softmax'))\n",
        "print(model.summary())"
      ],
      "execution_count": 15,
      "outputs": [
        {
          "output_type": "stream",
          "text": [
            "Model: \"sequential_1\"\n",
            "_________________________________________________________________\n",
            "Layer (type)                 Output Shape              Param #   \n",
            "=================================================================\n",
            "dense_1 (Dense)              (None, 512)               401920    \n",
            "_________________________________________________________________\n",
            "activation (Activation)      (None, 512)               0         \n",
            "_________________________________________________________________\n",
            "dropout (Dropout)            (None, 512)               0         \n",
            "_________________________________________________________________\n",
            "dense_2 (Dense)              (None, 512)               262656    \n",
            "_________________________________________________________________\n",
            "activation_1 (Activation)    (None, 512)               0         \n",
            "_________________________________________________________________\n",
            "dropout_1 (Dropout)          (None, 512)               0         \n",
            "_________________________________________________________________\n",
            "dense_3 (Dense)              (None, 10)                5130      \n",
            "_________________________________________________________________\n",
            "activation_2 (Activation)    (None, 10)                0         \n",
            "=================================================================\n",
            "Total params: 669,706\n",
            "Trainable params: 669,706\n",
            "Non-trainable params: 0\n",
            "_________________________________________________________________\n",
            "None\n"
          ],
          "name": "stdout"
        }
      ]
    },
    {
      "cell_type": "code",
      "metadata": {
        "colab_type": "code",
        "id": "PNahXS5oXdd5",
        "outputId": "6229a655-f393-4ad7-8bef-e0b4f11bf578",
        "colab": {
          "base_uri": "https://localhost:8080/",
          "height": 496
        }
      },
      "source": [
        "from tensorflow.keras.utils import plot_model\n",
        "\n",
        "plot_model(model, show_shapes=True, show_layer_names=True, to_file='mnist_lin.png')\n",
        "from IPython.display import Image\n",
        "Image(retina=True, filename='mnist_lin.png')"
      ],
      "execution_count": 16,
      "outputs": [
        {
          "output_type": "execute_result",
          "data": {
            "image/png": "[encoded data removed]",
            "text/plain": [
              "<IPython.core.display.Image object>"
            ]
          },
          "metadata": {
            "tags": [],
            "image/png": {
              "width": 206,
              "height": 479
            }
          },
          "execution_count": 16
        }
      ]
    },
    {
      "cell_type": "markdown",
      "metadata": {
        "colab_type": "text",
        "id": "xtDBq_ROY9aA"
      },
      "source": [
        "## Entrenamiento\n",
        "### Optimizador\n",
        "\n",
        "El error que necesitamos ahora es el *categorical cross entropy*\n",
        "\n",
        "#### Adam\n",
        "Es una mejora en velocidad de dos técnicas para mejorar el método del gradiente:\n",
        "\n",
        "* *Root Mean Square Propagation (RMSProp)*: Learning rate para cada parámetro según la media de los valores vistos. **Adam utiliza también valores al cuadrado**\n",
        "* *Adaptive Gradient Algorithm (AdaGrad)*: Learning rate para cada parámetro según lo enfrentado: actualiza poco lo visto con frecuencia y mucho lo no visto. Para problemas *Sparse *\n",
        "\n",
        "En concreto, utiliza una media móvil exponencial del gradiente y del gradiente al cuadrado ($\\beta_1$ y $\\beta_2$ controlan el valor de cada media movil)\n",
        "\n"
      ]
    },
    {
      "cell_type": "code",
      "metadata": {
        "colab_type": "code",
        "id": "t_offASwY6eU",
        "colab": {}
      },
      "source": [
        "\n",
        "model.compile(loss='categorical_crossentropy', metrics=['categorical_accuracy'], optimizer='adam')\n"
      ],
      "execution_count": 0,
      "outputs": []
    },
    {
      "cell_type": "markdown",
      "metadata": {
        "colab_type": "text",
        "id": "JyztD6jgZI3j"
      },
      "source": [
        "### Entrenamiento\n"
      ]
    },
    {
      "cell_type": "code",
      "metadata": {
        "colab_type": "code",
        "id": "ECNKFuyKY8e3",
        "outputId": "e640a1d7-8ae3-40b5-cbee-0fccb96c2a0e",
        "colab": {
          "base_uri": "https://localhost:8080/",
          "height": 765
        }
      },
      "source": [
        "history = model.fit(X_train, Y_train,\n",
        "          batch_size=128, epochs=20,\n",
        "          verbose=2,\n",
        "          validation_data=(X_test, Y_test))"
      ],
      "execution_count": 18,
      "outputs": [
        {
          "output_type": "stream",
          "text": [
            "Epoch 1/20\n",
            "469/469 - 2s - loss: 0.2490 - categorical_accuracy: 0.9261 - val_loss: 0.1110 - val_categorical_accuracy: 0.9637\n",
            "Epoch 2/20\n",
            "469/469 - 2s - loss: 0.1013 - categorical_accuracy: 0.9686 - val_loss: 0.0779 - val_categorical_accuracy: 0.9762\n",
            "Epoch 3/20\n",
            "469/469 - 2s - loss: 0.0704 - categorical_accuracy: 0.9780 - val_loss: 0.0700 - val_categorical_accuracy: 0.9781\n",
            "Epoch 4/20\n",
            "469/469 - 2s - loss: 0.0562 - categorical_accuracy: 0.9821 - val_loss: 0.0640 - val_categorical_accuracy: 0.9815\n",
            "Epoch 5/20\n",
            "469/469 - 2s - loss: 0.0450 - categorical_accuracy: 0.9856 - val_loss: 0.0655 - val_categorical_accuracy: 0.9793\n",
            "Epoch 6/20\n",
            "469/469 - 2s - loss: 0.0372 - categorical_accuracy: 0.9877 - val_loss: 0.0796 - val_categorical_accuracy: 0.9774\n",
            "Epoch 7/20\n",
            "469/469 - 2s - loss: 0.0362 - categorical_accuracy: 0.9881 - val_loss: 0.0746 - val_categorical_accuracy: 0.9795\n",
            "Epoch 8/20\n",
            "469/469 - 2s - loss: 0.0300 - categorical_accuracy: 0.9900 - val_loss: 0.0707 - val_categorical_accuracy: 0.9818\n",
            "Epoch 9/20\n",
            "469/469 - 2s - loss: 0.0277 - categorical_accuracy: 0.9906 - val_loss: 0.0651 - val_categorical_accuracy: 0.9811\n",
            "Epoch 10/20\n",
            "469/469 - 2s - loss: 0.0264 - categorical_accuracy: 0.9911 - val_loss: 0.0642 - val_categorical_accuracy: 0.9835\n",
            "Epoch 11/20\n",
            "469/469 - 2s - loss: 0.0233 - categorical_accuracy: 0.9919 - val_loss: 0.0717 - val_categorical_accuracy: 0.9811\n",
            "Epoch 12/20\n",
            "469/469 - 2s - loss: 0.0212 - categorical_accuracy: 0.9928 - val_loss: 0.0727 - val_categorical_accuracy: 0.9813\n",
            "Epoch 13/20\n",
            "469/469 - 2s - loss: 0.0222 - categorical_accuracy: 0.9926 - val_loss: 0.0732 - val_categorical_accuracy: 0.9821\n",
            "Epoch 14/20\n",
            "469/469 - 2s - loss: 0.0184 - categorical_accuracy: 0.9944 - val_loss: 0.0632 - val_categorical_accuracy: 0.9850\n",
            "Epoch 15/20\n",
            "469/469 - 2s - loss: 0.0172 - categorical_accuracy: 0.9941 - val_loss: 0.0858 - val_categorical_accuracy: 0.9817\n",
            "Epoch 16/20\n",
            "469/469 - 2s - loss: 0.0194 - categorical_accuracy: 0.9933 - val_loss: 0.0708 - val_categorical_accuracy: 0.9829\n",
            "Epoch 17/20\n",
            "469/469 - 2s - loss: 0.0175 - categorical_accuracy: 0.9941 - val_loss: 0.0737 - val_categorical_accuracy: 0.9843\n",
            "Epoch 18/20\n",
            "469/469 - 2s - loss: 0.0159 - categorical_accuracy: 0.9948 - val_loss: 0.0860 - val_categorical_accuracy: 0.9827\n",
            "Epoch 19/20\n",
            "469/469 - 2s - loss: 0.0161 - categorical_accuracy: 0.9947 - val_loss: 0.0765 - val_categorical_accuracy: 0.9823\n",
            "Epoch 20/20\n",
            "469/469 - 2s - loss: 0.0157 - categorical_accuracy: 0.9948 - val_loss: 0.0865 - val_categorical_accuracy: 0.9813\n"
          ],
          "name": "stdout"
        }
      ]
    },
    {
      "cell_type": "markdown",
      "metadata": {
        "colab_type": "text",
        "id": "l7h6TeVfeF-a"
      },
      "source": [
        "## Guardar un modelo\n",
        "Para no tener que estimar cada vez el modelo, éste se puede guardar en un fichero para ser recuperado después\n",
        "\n",
        "\n"
      ]
    },
    {
      "cell_type": "code",
      "metadata": {
        "colab_type": "code",
        "id": "qma9QwtbeCzg",
        "outputId": "6b661fd7-a4ca-4d0a-8a63-6929646121a3",
        "colab": {
          "base_uri": "https://localhost:8080/",
          "height": 36
        }
      },
      "source": [
        "model_name = 'keras_mnist.h5'\n",
        "model.save(model_name)\n",
        "print(f\"Modelo guardado en {model_name}\")"
      ],
      "execution_count": 19,
      "outputs": [
        {
          "output_type": "stream",
          "text": [
            "Modelo guardado en keras_mnist.h5\n"
          ],
          "name": "stdout"
        }
      ]
    },
    {
      "cell_type": "markdown",
      "metadata": {
        "colab_type": "text",
        "id": "GLr5ThpZe0AK"
      },
      "source": [
        "## Cargar un modelo\n",
        "Para recuperar de un archivo"
      ]
    },
    {
      "cell_type": "code",
      "metadata": {
        "colab_type": "code",
        "id": "okLFzzxse9do",
        "outputId": "bbb9245a-49ec-4225-f39c-139859fb4538",
        "colab": {
          "base_uri": "https://localhost:8080/",
          "height": 485
        }
      },
      "source": [
        "from tensorflow.keras.models import load_model\n",
        "mnist_model = load_model(\"keras_mnist.h5\")\n",
        "print(mnist_model.summary())"
      ],
      "execution_count": 20,
      "outputs": [
        {
          "output_type": "stream",
          "text": [
            "Model: \"sequential_1\"\n",
            "_________________________________________________________________\n",
            "Layer (type)                 Output Shape              Param #   \n",
            "=================================================================\n",
            "dense_1 (Dense)              (None, 512)               401920    \n",
            "_________________________________________________________________\n",
            "activation (Activation)      (None, 512)               0         \n",
            "_________________________________________________________________\n",
            "dropout (Dropout)            (None, 512)               0         \n",
            "_________________________________________________________________\n",
            "dense_2 (Dense)              (None, 512)               262656    \n",
            "_________________________________________________________________\n",
            "activation_1 (Activation)    (None, 512)               0         \n",
            "_________________________________________________________________\n",
            "dropout_1 (Dropout)          (None, 512)               0         \n",
            "_________________________________________________________________\n",
            "dense_3 (Dense)              (None, 10)                5130      \n",
            "_________________________________________________________________\n",
            "activation_2 (Activation)    (None, 10)                0         \n",
            "=================================================================\n",
            "Total params: 669,706\n",
            "Trainable params: 669,706\n",
            "Non-trainable params: 0\n",
            "_________________________________________________________________\n",
            "None\n"
          ],
          "name": "stdout"
        }
      ]
    },
    {
      "cell_type": "markdown",
      "metadata": {
        "colab_type": "text",
        "id": "byMNaBKNfYRE"
      },
      "source": [
        "## Evaluación\n",
        "Probamos el modelo con los datos de test\n"
      ]
    },
    {
      "cell_type": "code",
      "metadata": {
        "colab_type": "code",
        "id": "O4DCT8Y_e8Q_",
        "outputId": "32a23fbf-0012-4279-ddb8-8fc9c7260c63",
        "colab": {
          "base_uri": "https://localhost:8080/",
          "height": 73
        }
      },
      "source": [
        "loss_and_metrics = model.evaluate(X_test, Y_test, verbose=2)\n",
        "\n",
        "print(\"Test Loss\", loss_and_metrics[0])\n",
        "print(\"Test Accuracy\", loss_and_metrics[1])"
      ],
      "execution_count": 21,
      "outputs": [
        {
          "output_type": "stream",
          "text": [
            "313/313 - 1s - loss: 0.0865 - categorical_accuracy: 0.9813\n",
            "Test Loss 0.08647388219833374\n",
            "Test Accuracy 0.9812999963760376\n"
          ],
          "name": "stdout"
        }
      ]
    },
    {
      "cell_type": "code",
      "metadata": {
        "colab_type": "code",
        "id": "bFwko-VA0Uop",
        "outputId": "98609436-22c7-4b42-da7f-69bb97506fcd",
        "colab": {
          "base_uri": "https://localhost:8080/",
          "height": 74
        }
      },
      "source": [
        "#Una prediccion:\n",
        "predicted_values = mnist_model.predict(X_test)\n",
        "print(predicted_values[0])\n",
        "\n",
        "predicted_classes = np.argmax(mnist_model.predict(X_test), axis=-1)\n",
        "print(predicted_classes[0])\n",
        "\n",
        "# Deprecated\n",
        "#predicted_probs = mnist_model.predict_proba(X_test)\n",
        "#print(predicted_probs[0])\n",
        "# Deprecated\n",
        "#predicted_classes = mnist_model.predict_classes(X_test)\n",
        "#print(predicted_classes[0])"
      ],
      "execution_count": 22,
      "outputs": [
        {
          "output_type": "stream",
          "text": [
            "[8.6920536e-18 1.7390676e-14 1.8079895e-17 6.3150145e-11 1.8149411e-17 2.0321504e-16 5.8284984e-24 1.0000000e+00 4.2517653e-15 9.6740771e-10]\n",
            "7\n"
          ],
          "name": "stdout"
        }
      ]
    },
    {
      "cell_type": "markdown",
      "metadata": {
        "colab_type": "text",
        "id": "sRDTCHi7fvRe"
      },
      "source": [
        "Vamos a definir una función para pintar los aciertos y los errores con sus números"
      ]
    },
    {
      "cell_type": "code",
      "metadata": {
        "colab_type": "code",
        "id": "Dobjgsedfzl2",
        "colab": {}
      },
      "source": [
        "def pintar_9_numeros(predicted_classes, X_test, y_test,use_indices,cmap):\n",
        "  # Reducimos el tamaño para que quepan los subplots\n",
        "  plt.rcParams['figure.figsize'] = (8,8)\n",
        "  plt.style.use('dark_background')\n",
        "\n",
        "  figure_evaluation = plt.figure()\n",
        "\n",
        "  # pintar 9 graficos\n",
        "  for i, use in enumerate(use_indices[:9]):\n",
        "      plt.subplot(3,3,i+1)\n",
        "      plt.imshow(X_test[use].reshape(28,28), cmap=cmap, interpolation='none')\n",
        "      plt.title(\n",
        "        \"Predicción: {}, Verdad: {}\".format(predicted_classes[use],\n",
        "                                          y_test[use]))\n",
        "      plt.xticks([])\n",
        "      plt.yticks([])\n",
        "      \n",
        "  figure_evaluation\n",
        "  \n",
        "  \n",
        "def pintar_predicciones(mnist_model,X_test,y_test):  \n",
        "  predicted_classes = mnist_model.predict_classes(X_test)\n",
        "  correct_indices = np.nonzero(predicted_classes == y_test)[0]\n",
        "  incorrect_indices = np.nonzero(predicted_classes != y_test)[0]\n",
        "  print()\n",
        "  print(len(correct_indices),\" bien clasificados\")\n",
        "  print(len(incorrect_indices),\" mal clasificados\")\n",
        "  \n",
        "  pintar_9_numeros(predicted_classes, X_test, y_test,correct_indices,'Greens')\n",
        "  pintar_9_numeros(predicted_classes, X_test, y_test,incorrect_indices,'Oranges')\n",
        "  \n",
        "\n",
        "\n",
        "  \n"
      ],
      "execution_count": 0,
      "outputs": []
    },
    {
      "cell_type": "code",
      "metadata": {
        "colab_type": "code",
        "id": "NLX4UXL3hySZ",
        "outputId": "fd6a87cc-be2f-4bb6-e3d2-0d7f158e0a82",
        "colab": {
          "base_uri": "https://localhost:8080/",
          "height": 1000
        }
      },
      "source": [
        "pintar_predicciones(mnist_model,X_test,y_test) "
      ],
      "execution_count": 24,
      "outputs": [
        {
          "output_type": "stream",
          "text": [
            "WARNING:tensorflow:From <ipython-input-23-d74dea2b76e1>:22: Sequential.predict_classes (from tensorflow.python.keras.engine.sequential) is deprecated and will be removed after 2021-01-01.\n",
            "Instructions for updating:\n",
            "Please use instead:* `np.argmax(model.predict(x), axis=-1)`,   if your model does multi-class classification   (e.g. if it uses a `softmax` last-layer activation).* `(model.predict(x) > 0.5).astype(\"int32\")`,   if your model does binary classification   (e.g. if it uses a `sigmoid` last-layer activation).\n",
            "\n",
            "9813  bien clasificados\n",
            "187  mal clasificados\n"
          ],
          "name": "stdout"
        },
        {
          "output_type": "display_data",
          "data": {
            "image/png": "[encoded data removed]",
            "text/plain": [
              "<Figure size 576x576 with 9 Axes>"
            ]
          },
          "metadata": {
            "tags": []
          }
        },
        {
          "output_type": "display_data",
          "data": {
            "image/png": "[encoded data removed]",
            "text/plain": [
              "<Figure size 576x576 with 9 Axes>"
            ]
          },
          "metadata": {
            "tags": []
          }
        }
      ]
    },
    {
      "cell_type": "markdown",
      "metadata": {
        "colab_type": "text",
        "id": "KbyjmZ5cdpAw"
      },
      "source": [
        "# MNIST convolutional"
      ]
    },
    {
      "cell_type": "markdown",
      "metadata": {
        "colab_type": "text",
        "id": "LgZiqBtqi5ja"
      },
      "source": [
        "## Construyendo el modelo\n",
        "\n",
        "Preparamos los datos"
      ]
    },
    {
      "cell_type": "code",
      "metadata": {
        "colab_type": "code",
        "id": "hSKyJ-NvhnxJ",
        "outputId": "24ea148c-e672-4982-e2bd-a696fc41d1d4",
        "colab": {
          "base_uri": "https://localhost:8080/",
          "height": 73
        }
      },
      "source": [
        "from __future__ import print_function\n",
        "import tensorflow.keras\n",
        "from tensorflow.keras.datasets import mnist\n",
        "from tensorflow.keras.models import Sequential\n",
        "from tensorflow.keras.layers import Dense, Dropout, Flatten\n",
        "from tensorflow.keras.layers import Conv2D, MaxPooling2D\n",
        "from tensorflow.keras import backend as K\n",
        "\n",
        "batch_size = 128\n",
        "num_classes = 10\n",
        "epochs = 12\n",
        "\n",
        "\n",
        "# Cargamos los datos\n",
        "(x_train, y_train), (x_test, y_test) = mnist.load_data()\n",
        "\n",
        "# Dimensiones de la imagen\n",
        "img_rows, img_cols = 28, 28\n",
        "\n",
        "# Las imágenes se pueden cargar con el color primero o con el color al final\n",
        "if K.image_data_format() == 'channels_first':\n",
        "    x_train = x_train.reshape(x_train.shape[0], 1, img_rows, img_cols)\n",
        "    x_test = x_test.reshape(x_test.shape[0], 1, img_rows, img_cols)\n",
        "    input_shape = (1, img_rows, img_cols)\n",
        "else:\n",
        "    x_train = x_train.reshape(x_train.shape[0], img_rows, img_cols, 1)\n",
        "    x_test = x_test.reshape(x_test.shape[0], img_rows, img_cols, 1)\n",
        "    input_shape = (img_rows, img_cols, 1)\n",
        "\n",
        "    \n",
        "#Convertimos a float y ayudamos normalizando los valores    \n",
        "x_train = x_train.astype('float32')\n",
        "x_test = x_test.astype('float32')\n",
        "x_train /= 255\n",
        "x_test /= 255\n",
        "print('x_train shape:', x_train.shape)\n",
        "print(x_train.shape[0], 'train samples')\n",
        "print(x_test.shape[0], 'test samples')"
      ],
      "execution_count": 25,
      "outputs": [
        {
          "output_type": "stream",
          "text": [
            "x_train shape: (60000, 28, 28, 1)\n",
            "60000 train samples\n",
            "10000 test samples\n"
          ],
          "name": "stdout"
        }
      ]
    },
    {
      "cell_type": "markdown",
      "metadata": {
        "colab_type": "text",
        "id": "9VXgPQkEiruO"
      },
      "source": [
        "Convertimos los valores en one hot encoder"
      ]
    },
    {
      "cell_type": "code",
      "metadata": {
        "colab_type": "code",
        "id": "1WTtznCmiqPc",
        "outputId": "102a7302-2c4c-4ace-d0a6-4d6fad0db478",
        "colab": {
          "base_uri": "https://localhost:8080/",
          "height": 54
        }
      },
      "source": [
        "\n",
        "\n",
        "Y_train = tensorflow.keras.utils.to_categorical(y_train, num_classes)\n",
        "Y_test = tensorflow.keras.utils.to_categorical(y_test, num_classes)\n",
        "\n",
        "print(\"Valor inicial: \", y_train[0])\n",
        "print(\"Valor tratado: \", Y_train[0])\n"
      ],
      "execution_count": 26,
      "outputs": [
        {
          "output_type": "stream",
          "text": [
            "Valor inicial:  5\n",
            "Valor tratado:  [0. 0. 0. 0. 0. 1. 0. 0. 0. 0.]\n"
          ],
          "name": "stdout"
        }
      ]
    },
    {
      "cell_type": "markdown",
      "metadata": {
        "colab_type": "text",
        "id": "n7xbZ3uOjTRj"
      },
      "source": [
        "### Definimos la red convolucional\n",
        "Tamaños de entrada\n",
        "$$\n",
        "\\tfrac{\n",
        "\\underset{imagen}{28\n",
        "\\overset{28}{\n",
        "  \\begin{bmatrix}\n",
        "  . & . & . \\\\\n",
        "  . & . & . \\\\\n",
        "  . & .  & .\n",
        "  \\end{bmatrix} \n",
        "}}\n",
        "\\times\n",
        "\\underset{filter \\times 32}{\n",
        "3\\overset{3}{\n",
        "  \\begin{bmatrix}\n",
        "  . \n",
        "  \\end{bmatrix} \n",
        "}}\n",
        "}{Conv2D} \n",
        "---->\n",
        "\\tfrac{\n",
        "26\n",
        "\\overset{26}{\n",
        "  \\begin{bmatrix}\n",
        "  . & . & . \\\\\n",
        "  . & . & . \\\\\n",
        "  . & .  & .\n",
        "  \\end{bmatrix} \n",
        "}\n",
        "\\times\n",
        "\\underset{filter \\times 64}{\n",
        "3\\overset{3}{\n",
        "  \\begin{bmatrix}\n",
        "  . \n",
        "  \\end{bmatrix} \n",
        "}}\n",
        "}{Conv2D} \n",
        "---->\n",
        "\\tfrac{\n",
        "24\n",
        "\\overset{24}{\n",
        "  \\begin{bmatrix}\n",
        "  . & . & . \\\\\n",
        "  . & . & . \\\\\n",
        "  . & .  & .\n",
        "  \\end{bmatrix} \n",
        "}\n",
        "\\times\n",
        "\\underset{filter}{\n",
        "2\\overset{2}{\n",
        "  \\begin{bmatrix}\n",
        "  . \n",
        "  \\end{bmatrix} \n",
        "}}\n",
        "}{Max}\n",
        "---->\n",
        "\\tfrac{\n",
        "12\n",
        "\\overset{12}{\n",
        "  \\begin{bmatrix}\n",
        "  . & . & . \\\\\n",
        "  . & . & . \\\\\n",
        "  . & .  & .\n",
        "  \\end{bmatrix} \n",
        "}\n",
        "}{Dropout_{regularización}} \n",
        " ---->\\tfrac{\n",
        "12\n",
        "\\overset{12}{\n",
        "  \\begin{bmatrix}\n",
        "  . & . & . \\\\\n",
        "  . & . & . \\\\\n",
        "  . & .  & .\n",
        "  \\end{bmatrix} \n",
        "}\n",
        "}{Flatten}\n",
        " ---->\\tfrac{\n",
        "\\overset{9216=12\\times 12\\times 64}{\n",
        "  \\begin{bmatrix}\n",
        "  . & . & . \n",
        "  \\end{bmatrix} \n",
        "}\\times(128)\n",
        "}{Densa}\n",
        " ---->\\tfrac{\n",
        "\\overset{128}{\n",
        "  \\begin{bmatrix}\n",
        "  . & . & . \n",
        "  \\end{bmatrix} \n",
        "}\n",
        "}{Dropout}\n",
        " ---->\\tfrac{\n",
        "\\overset{128}{\n",
        "  \\begin{bmatrix}\n",
        "  . & . & . \n",
        "  \\end{bmatrix} \n",
        "}\n",
        "}{Salida}---->\n",
        "\\overset{10}{\n",
        "  \\begin{bmatrix}\n",
        "  . & . & . \n",
        "  \\end{bmatrix} \n",
        "}\n",
        "$$\n",
        "\n"
      ]
    },
    {
      "cell_type": "code",
      "metadata": {
        "colab_type": "code",
        "id": "yuJviUxVd0Zf",
        "outputId": "94745733-efb4-4278-a814-e2ed8fb44dfd",
        "colab": {
          "base_uri": "https://localhost:8080/",
          "height": 485
        }
      },
      "source": [
        "model = Sequential()\n",
        "model.add(Conv2D(filters=32, kernel_size=(3, 3),\n",
        "                 activation='relu',\n",
        "                 input_shape=input_shape))\n",
        "model.add(Conv2D(64, (3, 3), activation='relu'))\n",
        "model.add(MaxPooling2D(pool_size=(2, 2)))\n",
        "model.add(Dropout(0.25))\n",
        "model.add(Flatten())\n",
        "model.add(Dense(units=128, activation='relu'))\n",
        "model.add(Dropout(0.5))\n",
        "model.add(Dense(num_classes, activation='softmax'))\n",
        "\n",
        "print(model.summary())"
      ],
      "execution_count": 27,
      "outputs": [
        {
          "output_type": "stream",
          "text": [
            "Model: \"sequential_2\"\n",
            "_________________________________________________________________\n",
            "Layer (type)                 Output Shape              Param #   \n",
            "=================================================================\n",
            "conv2d (Conv2D)              (None, 26, 26, 32)        320       \n",
            "_________________________________________________________________\n",
            "conv2d_1 (Conv2D)            (None, 24, 24, 64)        18496     \n",
            "_________________________________________________________________\n",
            "max_pooling2d (MaxPooling2D) (None, 12, 12, 64)        0         \n",
            "_________________________________________________________________\n",
            "dropout_2 (Dropout)          (None, 12, 12, 64)        0         \n",
            "_________________________________________________________________\n",
            "flatten (Flatten)            (None, 9216)              0         \n",
            "_________________________________________________________________\n",
            "dense_4 (Dense)              (None, 128)               1179776   \n",
            "_________________________________________________________________\n",
            "dropout_3 (Dropout)          (None, 128)               0         \n",
            "_________________________________________________________________\n",
            "dense_5 (Dense)              (None, 10)                1290      \n",
            "=================================================================\n",
            "Total params: 1,199,882\n",
            "Trainable params: 1,199,882\n",
            "Non-trainable params: 0\n",
            "_________________________________________________________________\n",
            "None\n"
          ],
          "name": "stdout"
        }
      ]
    },
    {
      "cell_type": "code",
      "metadata": {
        "colab_type": "code",
        "id": "tiuvT25Pjm0I",
        "outputId": "07eac572-34ff-46ea-e101-45c1a4090757",
        "colab": {
          "base_uri": "https://localhost:8080/",
          "height": 503
        }
      },
      "source": [
        "model.compile(loss=tensorflow.keras.losses.categorical_crossentropy,\n",
        "              optimizer=tensorflow.keras.optimizers.Adadelta(),\n",
        "              metrics=['accuracy'])\n",
        "\n",
        "model.fit(x_train, Y_train,\n",
        "          batch_size=batch_size,\n",
        "          epochs=epochs,\n",
        "          verbose=1,\n",
        "          validation_data=(x_test, Y_test))\n",
        "score = model.evaluate(x_test, Y_test, verbose=0)\n",
        "print('Test loss:', score[0])\n",
        "print('Test accuracy:', score[1])"
      ],
      "execution_count": 28,
      "outputs": [
        {
          "output_type": "stream",
          "text": [
            "Epoch 1/12\n",
            "469/469 [==============================] - 8s 16ms/step - loss: 2.2836 - accuracy: 0.1620 - val_loss: 2.2502 - val_accuracy: 0.3977\n",
            "Epoch 2/12\n",
            "469/469 [==============================] - 7s 16ms/step - loss: 2.2306 - accuracy: 0.2702 - val_loss: 2.1864 - val_accuracy: 0.5381\n",
            "Epoch 3/12\n",
            "469/469 [==============================] - 7s 15ms/step - loss: 2.1646 - accuracy: 0.3647 - val_loss: 2.1017 - val_accuracy: 0.6004\n",
            "Epoch 4/12\n",
            "469/469 [==============================] - 7s 15ms/step - loss: 2.0755 - accuracy: 0.4394 - val_loss: 1.9877 - val_accuracy: 0.6489\n",
            "Epoch 5/12\n",
            "469/469 [==============================] - 7s 16ms/step - loss: 1.9567 - accuracy: 0.5030 - val_loss: 1.8359 - val_accuracy: 0.6857\n",
            "Epoch 6/12\n",
            "469/469 [==============================] - 7s 15ms/step - loss: 1.8087 - accuracy: 0.5505 - val_loss: 1.6490 - val_accuracy: 0.7114\n",
            "Epoch 7/12\n",
            "469/469 [==============================] - 7s 15ms/step - loss: 1.6421 - accuracy: 0.5836 - val_loss: 1.4456 - val_accuracy: 0.7341\n",
            "Epoch 8/12\n",
            "469/469 [==============================] - 7s 16ms/step - loss: 1.4695 - accuracy: 0.6138 - val_loss: 1.2494 - val_accuracy: 0.7572\n",
            "Epoch 9/12\n",
            "469/469 [==============================] - 7s 15ms/step - loss: 1.3176 - accuracy: 0.6401 - val_loss: 1.0816 - val_accuracy: 0.7779\n",
            "Epoch 10/12\n",
            "469/469 [==============================] - 7s 15ms/step - loss: 1.1962 - accuracy: 0.6622 - val_loss: 0.9478 - val_accuracy: 0.7982\n",
            "Epoch 11/12\n",
            "469/469 [==============================] - 7s 15ms/step - loss: 1.0954 - accuracy: 0.6822 - val_loss: 0.8442 - val_accuracy: 0.8118\n",
            "Epoch 12/12\n",
            "469/469 [==============================] - 7s 15ms/step - loss: 1.0131 - accuracy: 0.7019 - val_loss: 0.7630 - val_accuracy: 0.8229\n",
            "Test loss: 0.7629990577697754\n",
            "Test accuracy: 0.8228999972343445\n"
          ],
          "name": "stdout"
        }
      ]
    },
    {
      "cell_type": "code",
      "metadata": {
        "colab_type": "code",
        "id": "_f1HiNvZgu7C",
        "outputId": "5b00ba64-0f3f-4125-f718-737782785dab",
        "colab": {
          "base_uri": "https://localhost:8080/",
          "height": 1000
        }
      },
      "source": [
        "pintar_predicciones(model,x_test, y_test)"
      ],
      "execution_count": 29,
      "outputs": [
        {
          "output_type": "stream",
          "text": [
            "\n",
            "8229  bien clasificados\n",
            "1771  mal clasificados\n"
          ],
          "name": "stdout"
        },
        {
          "output_type": "display_data",
          "data": {
            "image/png": "[encoded data removed]",
            "text/plain": [
              "<Figure size 576x576 with 9 Axes>"
            ]
          },
          "metadata": {
            "tags": []
          }
        },
        {
          "output_type": "display_data",
          "data": {
            "image/png": "[encoded data removed]",
            "text/plain": [
              "<Figure size 576x576 with 9 Axes>"
            ]
          },
          "metadata": {
            "tags": []
          }
        }
      ]
    }
  ]
}