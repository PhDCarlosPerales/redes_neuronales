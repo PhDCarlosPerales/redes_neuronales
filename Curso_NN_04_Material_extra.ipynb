{
  "nbformat": 4,
  "nbformat_minor": 0,
  "metadata": {
    "colab": {
      "name": "Curso_NN_04_Material_extra.ipynb",
      "provenance": [],
      "collapsed_sections": []
    },
    "kernelspec": {
      "name": "python3",
      "display_name": "Python 3"
    }
  },
  "cells": [
    {
      "cell_type": "markdown",
      "metadata": {
        "id": "PEhJgpbkymUq",
        "colab_type": "text"
      },
      "source": [
        "# Método del gradiente\n",
        "## Cambio del error al aproximarse al valor correcto"
      ]
    },
    {
      "cell_type": "code",
      "metadata": {
        "id": "p8P2Batnv0BB",
        "colab_type": "code",
        "colab": {}
      },
      "source": [
        "import numpy as np\n",
        "import matplotlib.pyplot as plt"
      ],
      "execution_count": 0,
      "outputs": []
    },
    {
      "cell_type": "code",
      "metadata": {
        "id": "dUckKLRBv48P",
        "colab_type": "code",
        "colab": {}
      },
      "source": [
        "habitaciones = [1.0, 2.0, 3.0, 4.0]\n",
        "precios = [6.0, 12.0, 18.0, 24.0]"
      ],
      "execution_count": 0,
      "outputs": []
    },
    {
      "cell_type": "code",
      "metadata": {
        "id": "xDy08lCqv-qs",
        "colab_type": "code",
        "colab": {}
      },
      "source": [
        "def prediccion(habitaciones,omega):\n",
        "   return habitaciones * omega"
      ],
      "execution_count": 0,
      "outputs": []
    },
    {
      "cell_type": "code",
      "metadata": {
        "id": "5edoiHG3wMSW",
        "colab_type": "code",
        "colab": {}
      },
      "source": [
        "def loss(habitaciones, precio_real,omega):\n",
        "   prediccion_precio = prediccion(habitaciones,omega)\n",
        "   return (prediccion_precio - precio_real) ** 2"
      ],
      "execution_count": 0,
      "outputs": []
    },
    {
      "cell_type": "code",
      "metadata": {
        "id": "R8fuOmPgu82t",
        "colab_type": "code",
        "outputId": "5bf7305f-92e5-4ac0-ef41-b2638ae82b6f",
        "colab": {
          "base_uri": "https://localhost:8080/",
          "height": 933
        }
      },
      "source": [
        "\n",
        "omega_list = []\n",
        "mse_list = []\n",
        "for omega in np.arange(3.0, 9.1, 1):\n",
        "   print(\"omega=\", omega)\n",
        "   print(\"\\t Hab Pre_real Pre_pred Err_cua\")\n",
        "   err_sum = 0\n",
        "   for habitaciones_val, precios_val in zip(habitaciones, precios):\n",
        "       precio_pred_val = prediccion(habitaciones_val, omega)\n",
        "       err_cuad = loss(habitaciones_val, precios_val,omega)\n",
        "       err_sum += err_cuad\n",
        "       print(\"\\t\", habitaciones_val, precios_val, precio_pred_val, err_cuad)\n",
        "   print(\"MSE=\", err_sum / len(habitaciones))\n",
        "   omega_list.append(omega)\n",
        "   mse_list.append(err_sum / len(habitaciones))\n",
        "\n"
      ],
      "execution_count": 5,
      "outputs": [
        {
          "output_type": "stream",
          "text": [
            "omega= 3.0\n",
            "\t Hab Pre_real Pre_pred Err_cua\n",
            "\t 1.0 6.0 3.0 9.0\n",
            "\t 2.0 12.0 6.0 36.0\n",
            "\t 3.0 18.0 9.0 81.0\n",
            "\t 4.0 24.0 12.0 144.0\n",
            "MSE= 67.5\n",
            "omega= 4.0\n",
            "\t Hab Pre_real Pre_pred Err_cua\n",
            "\t 1.0 6.0 4.0 4.0\n",
            "\t 2.0 12.0 8.0 16.0\n",
            "\t 3.0 18.0 12.0 36.0\n",
            "\t 4.0 24.0 16.0 64.0\n",
            "MSE= 30.0\n",
            "omega= 5.0\n",
            "\t Hab Pre_real Pre_pred Err_cua\n",
            "\t 1.0 6.0 5.0 1.0\n",
            "\t 2.0 12.0 10.0 4.0\n",
            "\t 3.0 18.0 15.0 9.0\n",
            "\t 4.0 24.0 20.0 16.0\n",
            "MSE= 7.5\n",
            "omega= 6.0\n",
            "\t Hab Pre_real Pre_pred Err_cua\n",
            "\t 1.0 6.0 6.0 0.0\n",
            "\t 2.0 12.0 12.0 0.0\n",
            "\t 3.0 18.0 18.0 0.0\n",
            "\t 4.0 24.0 24.0 0.0\n",
            "MSE= 0.0\n",
            "omega= 7.0\n",
            "\t Hab Pre_real Pre_pred Err_cua\n",
            "\t 1.0 6.0 7.0 1.0\n",
            "\t 2.0 12.0 14.0 4.0\n",
            "\t 3.0 18.0 21.0 9.0\n",
            "\t 4.0 24.0 28.0 16.0\n",
            "MSE= 7.5\n",
            "omega= 8.0\n",
            "\t Hab Pre_real Pre_pred Err_cua\n",
            "\t 1.0 6.0 8.0 4.0\n",
            "\t 2.0 12.0 16.0 16.0\n",
            "\t 3.0 18.0 24.0 36.0\n",
            "\t 4.0 24.0 32.0 64.0\n",
            "MSE= 30.0\n",
            "omega= 9.0\n",
            "\t Hab Pre_real Pre_pred Err_cua\n",
            "\t 1.0 6.0 9.0 9.0\n",
            "\t 2.0 12.0 18.0 36.0\n",
            "\t 3.0 18.0 27.0 81.0\n",
            "\t 4.0 24.0 36.0 144.0\n",
            "MSE= 67.5\n"
          ],
          "name": "stdout"
        }
      ]
    },
    {
      "cell_type": "code",
      "metadata": {
        "id": "O7yJRMNWw06Z",
        "colab_type": "code",
        "outputId": "e06f69b1-ea96-4e38-a6f7-237c63189943",
        "colab": {
          "base_uri": "https://localhost:8080/",
          "height": 281
        }
      },
      "source": [
        "plt.plot(omega_list, mse_list)\n",
        "plt.ylabel('MSE')\n",
        "plt.xlabel('omega')\n",
        "plt.show()\n"
      ],
      "execution_count": 6,
      "outputs": [
        {
          "output_type": "display_data",
          "data": {
            "image/png": "[encoded data removed]",
            "text/plain": [
              "<Figure size 432x288 with 1 Axes>"
            ]
          },
          "metadata": {
            "tags": [],
            "needs_background": "light"
          }
        }
      ]
    },
    {
      "cell_type": "markdown",
      "metadata": {
        "id": "9x5hD5EuzrRE",
        "colab_type": "text"
      },
      "source": [
        "## Metodo del gradiente"
      ]
    },
    {
      "cell_type": "code",
      "metadata": {
        "id": "zKOD-y8Hzvy9",
        "colab_type": "code",
        "outputId": "7f4b344f-ee89-43fa-9017-5a6989b32cda",
        "colab": {
          "base_uri": "https://localhost:8080/",
          "height": 546
        }
      },
      "source": [
        "# Minimizing a quadratic function\n",
        "import math\n",
        "\n",
        "import numpy as np\n",
        "import pandas as pd\n",
        "import matplotlib.pyplot as plt\n",
        "\n",
        "\n",
        "def SSE(m, data):\n",
        "    totalError = 0.0\n",
        "    totalNan = 0\n",
        "    for i in range(data.shape[0]):\n",
        "        if (math.isnan(data.iloc[i, 0])):\n",
        "            totalNan += 1\n",
        "        else:\n",
        "            yOutput = m * data.iloc[i, 0]\n",
        "            y = data.iloc[i, 1]\n",
        "            error = (y - yOutput) ** 2\n",
        "            totalError = totalError + error\n",
        "\n",
        "    return totalError\n",
        "\n",
        "\n",
        "def gradient_descent_step(m, data):\n",
        "    n_points = data.shape[0]  # size of data\n",
        "\n",
        "\n",
        "    m_grad = 0\n",
        "    b_grad = 0\n",
        "    stepper = 0.0003  # this is the learning rate\n",
        "    for i in range(n_points):\n",
        "        # Get current pair (x,y)\n",
        "        x = data.iloc[i, 0]\n",
        "        y = data.iloc[i, 1]\n",
        "        if (math.isnan(x) | math.isnan(y)):  # it will prevent for crashing when some data is missing\n",
        "            # print(\"is nan\")\n",
        "            continue\n",
        "        # you will calculate the partical derivative for each value in data\n",
        "\n",
        "        # Partial derivative respect 'm'\n",
        "        dm = -((2 / n_points) * x * (y - (m * x )))\n",
        "\n",
        "\n",
        "\n",
        "        # Update gradient\n",
        "        m_grad = m_grad + dm\n",
        "\n",
        "        # Set the new 'better' updated 'm' and 'b'\n",
        "        m_updated = m - stepper * m_grad\n",
        "\n",
        "    return m_updated\n",
        "\n",
        "\n",
        "X = np.arange(1,100)\n",
        "y = 6 * X \n",
        "data = pd.DataFrame(data={'x': X, 'y': y})\n",
        "\n",
        "m = 8\n",
        "sse = SSE(m,data)\n",
        "print('For the fitting line: y = %sx \\nSSE: %.2f' %(m,sse))\n",
        "\n",
        "print('Starting line: y = %.2fx - Error: %.2f' % (m, sse))\n",
        "\n",
        "for i in range(1000):\n",
        "    m = gradient_descent_step(m,  data)\n",
        "    sse = SSE(m, data)\n",
        "    if i%100==0:\n",
        "        print('At step %d - Line: y = %.3fx  - Error: %.2f' %(i+1,m,sse))\n",
        "\n",
        "print('\\nBest line: y = %.2fx  - Error: %.2f' % (m, sse))\n",
        "plt.scatter(X, y)\n",
        "plt.plot(X, m * X, color='red')\n",
        "plt.show()"
      ],
      "execution_count": 7,
      "outputs": [
        {
          "output_type": "stream",
          "text": [
            "For the fitting line: y = 8x \n",
            "SSE: 1313400.00\n",
            "Starting line: y = 8.00x - Error: 1313400.00\n",
            "At step 1 - Line: y = 4.020x  - Error: 1287263.34\n",
            "At step 101 - Line: y = 5.275x  - Error: 172467.12\n",
            "At step 201 - Line: y = 5.735x  - Error: 23107.09\n",
            "At step 301 - Line: y = 5.903x  - Error: 3095.88\n",
            "At step 401 - Line: y = 5.964x  - Error: 414.79\n",
            "At step 501 - Line: y = 5.987x  - Error: 55.57\n",
            "At step 601 - Line: y = 5.995x  - Error: 7.45\n",
            "At step 701 - Line: y = 5.998x  - Error: 1.00\n",
            "At step 801 - Line: y = 5.999x  - Error: 0.13\n",
            "At step 901 - Line: y = 6.000x  - Error: 0.02\n",
            "\n",
            "Best line: y = 6.00x  - Error: 0.00\n"
          ],
          "name": "stdout"
        },
        {
          "output_type": "display_data",
          "data": {
            "image/png": "[encoded data removed]",
            "text/plain": [
              "<Figure size 432x288 with 1 Axes>"
            ]
          },
          "metadata": {
            "tags": [],
            "needs_background": "light"
          }
        }
      ]
    },
    {
      "cell_type": "markdown",
      "metadata": {
        "id": "TogPxhABe6Rq",
        "colab_type": "text"
      },
      "source": [
        "## Gradiente 2 valores"
      ]
    },
    {
      "cell_type": "code",
      "metadata": {
        "id": "jVEcWQgmfD1H",
        "colab_type": "code",
        "outputId": "2ca03b68-a16d-4b29-98e2-8c1cfb82dd0e",
        "colab": {
          "base_uri": "https://localhost:8080/",
          "height": 1000
        }
      },
      "source": [
        "# Minimizing a quadratic function\n",
        "import math\n",
        "\n",
        "import numpy as np\n",
        "import pandas as pd\n",
        "import matplotlib.pyplot as plt\n",
        "\n",
        "\n",
        "def SSE(m, b, data):\n",
        "    totalError = 0.0\n",
        "    totalNan = 0\n",
        "    for i in range(data.shape[0]):\n",
        "        if (math.isnan(data.iloc[i, 0])):\n",
        "            totalNan += 1\n",
        "        else:\n",
        "            yOutput = m * data.iloc[i, 0] + b\n",
        "            y = data.iloc[i, 1]\n",
        "            error = (y - yOutput) ** 2\n",
        "            totalError = totalError + error\n",
        "\n",
        "    return totalError\n",
        "\n",
        "\n",
        "def gradient_descent_step(m, b, data):\n",
        "    n_points = data.shape[0]  # size of data\n",
        "\n",
        "\n",
        "    m_grad = 0\n",
        "    b_grad = 0\n",
        "    stepper = 0.0003  # this is the learning rate\n",
        "    for i in range(n_points):\n",
        "        # Get current pair (x,y)\n",
        "        x = data.iloc[i, 0]\n",
        "        y = data.iloc[i, 1]\n",
        "        if (math.isnan(x) | math.isnan(y)):  # it will prevent for crashing when some data is missing\n",
        "            # print(\"is nan\")\n",
        "            continue\n",
        "        # you will calculate the partical derivative for each value in data\n",
        "\n",
        "        # Partial derivative respect 'm'\n",
        "        dm = -((2 / n_points) * x * (y - (m * x + b)))\n",
        "\n",
        "        # Partial derivative respect 'b'\n",
        "        db = -((2 / n_points) * (y - (m * x + b)))\n",
        "\n",
        "        # Update gradient\n",
        "        m_grad = m_grad + dm\n",
        "        b_grad = b_grad + db\n",
        "        # Set the new 'better' updated 'm' and 'b'\n",
        "        m_updated = m - stepper * m_grad\n",
        "        b_updated = b - stepper * b_grad\n",
        "    return m_updated, b_updated\n",
        "\n",
        "\n",
        "X = np.arange(1,100)\n",
        "y = 6 * X + 1\n",
        "data = pd.DataFrame(data={'x': X, 'y': y})\n",
        "\n",
        "m = 5\n",
        "b = 3\n",
        "sse = SSE(m,b,data)\n",
        "print('For the fitting line: y = %sx + %s\\nSSE: %.2f' %(m,b,sse))\n",
        "\n",
        "print('Starting line: y = %.2fx + %.2f - Error: %.2f' % (m, b, sse))\n",
        "\n",
        "for i in range(10000):\n",
        "    m, b = gradient_descent_step(m, b, data)\n",
        "    sse = SSE(m, b, data)\n",
        "    if i%100==0:\n",
        "        print('At step %d - Line: y = %.3fx + %.3f - Error: %.2f' %(i+1,m,b,sse))\n",
        "\n",
        "print('\\nBest line: y = %.2fx + %.2f - Error: %.2f' % (m, b, sse))\n",
        "plt.scatter(X, y)\n",
        "plt.plot(X, m * X + b, color='red')\n",
        "plt.show()"
      ],
      "execution_count": 8,
      "outputs": [
        {
          "output_type": "stream",
          "text": [
            "For the fitting line: y = 5x + 3\n",
            "SSE: 308946.00\n",
            "Starting line: y = 5.00x + 3.00 - Error: 308946.00\n",
            "At step 1 - Line: y = 6.930x + 3.029 - Error: 303076.56\n",
            "At step 101 - Line: y = 6.338x + 2.990 - Error: 44571.76\n",
            "At step 201 - Line: y = 6.111x + 2.958 - Error: 6622.07\n",
            "At step 301 - Line: y = 6.025x + 2.928 - Error: 1048.92\n",
            "At step 401 - Line: y = 5.992x + 2.899 - Error: 228.57\n",
            "At step 501 - Line: y = 5.980x + 2.871 - Error: 105.98\n",
            "At step 601 - Line: y = 5.975x + 2.844 - Error: 85.87\n",
            "At step 701 - Line: y = 5.974x + 2.816 - Error: 80.88\n",
            "At step 801 - Line: y = 5.973x + 2.790 - Error: 78.15\n",
            "At step 901 - Line: y = 5.974x + 2.764 - Error: 75.83\n",
            "At step 1001 - Line: y = 5.974x + 2.738 - Error: 73.61\n",
            "At step 1101 - Line: y = 5.974x + 2.712 - Error: 71.47\n",
            "At step 1201 - Line: y = 5.975x + 2.687 - Error: 69.39\n",
            "At step 1301 - Line: y = 5.975x + 2.662 - Error: 67.37\n",
            "At step 1401 - Line: y = 5.975x + 2.638 - Error: 65.40\n",
            "At step 1501 - Line: y = 5.976x + 2.614 - Error: 63.50\n",
            "At step 1601 - Line: y = 5.976x + 2.590 - Error: 61.65\n",
            "At step 1701 - Line: y = 5.976x + 2.567 - Error: 59.86\n",
            "At step 1801 - Line: y = 5.977x + 2.544 - Error: 58.11\n",
            "At step 1901 - Line: y = 5.977x + 2.521 - Error: 56.42\n",
            "At step 2001 - Line: y = 5.977x + 2.499 - Error: 54.78\n",
            "At step 2101 - Line: y = 5.978x + 2.477 - Error: 53.19\n",
            "At step 2201 - Line: y = 5.978x + 2.455 - Error: 51.64\n",
            "At step 2301 - Line: y = 5.978x + 2.434 - Error: 50.13\n",
            "At step 2401 - Line: y = 5.979x + 2.413 - Error: 48.67\n",
            "At step 2501 - Line: y = 5.979x + 2.392 - Error: 47.26\n",
            "At step 2601 - Line: y = 5.979x + 2.372 - Error: 45.88\n",
            "At step 2701 - Line: y = 5.980x + 2.352 - Error: 44.55\n",
            "At step 2801 - Line: y = 5.980x + 2.332 - Error: 43.25\n",
            "At step 2901 - Line: y = 5.980x + 2.312 - Error: 41.99\n",
            "At step 3001 - Line: y = 5.981x + 2.293 - Error: 40.77\n",
            "At step 3101 - Line: y = 5.981x + 2.274 - Error: 39.58\n",
            "At step 3201 - Line: y = 5.981x + 2.256 - Error: 38.43\n",
            "At step 3301 - Line: y = 5.981x + 2.237 - Error: 37.31\n",
            "At step 3401 - Line: y = 5.982x + 2.219 - Error: 36.22\n",
            "At step 3501 - Line: y = 5.982x + 2.201 - Error: 35.17\n",
            "At step 3601 - Line: y = 5.982x + 2.184 - Error: 34.15\n",
            "At step 3701 - Line: y = 5.982x + 2.166 - Error: 33.15\n",
            "At step 3801 - Line: y = 5.983x + 2.149 - Error: 32.19\n",
            "At step 3901 - Line: y = 5.983x + 2.132 - Error: 31.25\n",
            "At step 4001 - Line: y = 5.983x + 2.116 - Error: 30.34\n",
            "At step 4101 - Line: y = 5.983x + 2.099 - Error: 29.46\n",
            "At step 4201 - Line: y = 5.984x + 2.083 - Error: 28.60\n",
            "At step 4301 - Line: y = 5.984x + 2.067 - Error: 27.77\n",
            "At step 4401 - Line: y = 5.984x + 2.052 - Error: 26.96\n",
            "At step 4501 - Line: y = 5.984x + 2.036 - Error: 26.17\n",
            "At step 4601 - Line: y = 5.985x + 2.021 - Error: 25.41\n",
            "At step 4701 - Line: y = 5.985x + 2.006 - Error: 24.67\n",
            "At step 4801 - Line: y = 5.985x + 1.991 - Error: 23.95\n",
            "At step 4901 - Line: y = 5.985x + 1.977 - Error: 23.26\n",
            "At step 5001 - Line: y = 5.985x + 1.962 - Error: 22.58\n",
            "At step 5101 - Line: y = 5.986x + 1.948 - Error: 21.92\n",
            "At step 5201 - Line: y = 5.986x + 1.934 - Error: 21.28\n",
            "At step 5301 - Line: y = 5.986x + 1.921 - Error: 20.66\n",
            "At step 5401 - Line: y = 5.986x + 1.907 - Error: 20.06\n",
            "At step 5501 - Line: y = 5.987x + 1.894 - Error: 19.48\n",
            "At step 5601 - Line: y = 5.987x + 1.881 - Error: 18.91\n",
            "At step 5701 - Line: y = 5.987x + 1.868 - Error: 18.36\n",
            "At step 5801 - Line: y = 5.987x + 1.855 - Error: 17.83\n",
            "At step 5901 - Line: y = 5.987x + 1.843 - Error: 17.31\n",
            "At step 6001 - Line: y = 5.987x + 1.830 - Error: 16.80\n",
            "At step 6101 - Line: y = 5.988x + 1.818 - Error: 16.31\n",
            "At step 6201 - Line: y = 5.988x + 1.806 - Error: 15.84\n",
            "At step 6301 - Line: y = 5.988x + 1.794 - Error: 15.38\n",
            "At step 6401 - Line: y = 5.988x + 1.783 - Error: 14.93\n",
            "At step 6501 - Line: y = 5.988x + 1.771 - Error: 14.50\n",
            "At step 6601 - Line: y = 5.989x + 1.760 - Error: 14.07\n",
            "At step 6701 - Line: y = 5.989x + 1.749 - Error: 13.66\n",
            "At step 6801 - Line: y = 5.989x + 1.738 - Error: 13.27\n",
            "At step 6901 - Line: y = 5.989x + 1.727 - Error: 12.88\n",
            "At step 7001 - Line: y = 5.989x + 1.716 - Error: 12.51\n",
            "At step 7101 - Line: y = 5.989x + 1.706 - Error: 12.14\n",
            "At step 7201 - Line: y = 5.990x + 1.695 - Error: 11.79\n",
            "At step 7301 - Line: y = 5.990x + 1.685 - Error: 11.44\n",
            "At step 7401 - Line: y = 5.990x + 1.675 - Error: 11.11\n",
            "At step 7501 - Line: y = 5.990x + 1.665 - Error: 10.79\n",
            "At step 7601 - Line: y = 5.990x + 1.655 - Error: 10.47\n",
            "At step 7701 - Line: y = 5.990x + 1.646 - Error: 10.17\n",
            "At step 7801 - Line: y = 5.990x + 1.636 - Error: 9.87\n",
            "At step 7901 - Line: y = 5.991x + 1.627 - Error: 9.59\n",
            "At step 8001 - Line: y = 5.991x + 1.618 - Error: 9.31\n",
            "At step 8101 - Line: y = 5.991x + 1.609 - Error: 9.04\n",
            "At step 8201 - Line: y = 5.991x + 1.600 - Error: 8.77\n",
            "At step 8301 - Line: y = 5.991x + 1.591 - Error: 8.52\n",
            "At step 8401 - Line: y = 5.991x + 1.582 - Error: 8.27\n",
            "At step 8501 - Line: y = 5.991x + 1.574 - Error: 8.03\n",
            "At step 8601 - Line: y = 5.991x + 1.565 - Error: 7.80\n",
            "At step 8701 - Line: y = 5.992x + 1.557 - Error: 7.57\n",
            "At step 8801 - Line: y = 5.992x + 1.549 - Error: 7.35\n",
            "At step 8901 - Line: y = 5.992x + 1.541 - Error: 7.13\n",
            "At step 9001 - Line: y = 5.992x + 1.533 - Error: 6.93\n",
            "At step 9101 - Line: y = 5.992x + 1.525 - Error: 6.72\n",
            "At step 9201 - Line: y = 5.992x + 1.518 - Error: 6.53\n",
            "At step 9301 - Line: y = 5.992x + 1.510 - Error: 6.34\n",
            "At step 9401 - Line: y = 5.992x + 1.502 - Error: 6.15\n",
            "At step 9501 - Line: y = 5.993x + 1.495 - Error: 5.98\n",
            "At step 9601 - Line: y = 5.993x + 1.488 - Error: 5.80\n",
            "At step 9701 - Line: y = 5.993x + 1.481 - Error: 5.63\n",
            "At step 9801 - Line: y = 5.993x + 1.474 - Error: 5.47\n",
            "At step 9901 - Line: y = 5.993x + 1.467 - Error: 5.31\n",
            "\n",
            "Best line: y = 5.99x + 1.46 - Error: 5.16\n"
          ],
          "name": "stdout"
        },
        {
          "output_type": "display_data",
          "data": {
            "image/png": "[encoded data removed]",
            "text/plain": [
              "<Figure size 432x288 with 1 Axes>"
            ]
          },
          "metadata": {
            "tags": [],
            "needs_background": "light"
          }
        }
      ]
    }
  ]
}